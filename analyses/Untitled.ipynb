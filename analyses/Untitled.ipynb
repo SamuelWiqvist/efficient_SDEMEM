{
 "cells": [
  {
   "cell_type": "code",
   "execution_count": 1,
   "metadata": {},
   "outputs": [],
   "source": [
    "using Distributions\n",
    "using Statistics\n",
    "using PyPlot"
   ]
  },
  {
   "cell_type": "code",
   "execution_count": 27,
   "metadata": {},
   "outputs": [
    {
     "data": {
      "text/plain": [
       "Normal{Float64}(μ=100.0, σ=3.0)"
      ]
     },
     "execution_count": 27,
     "metadata": {},
     "output_type": "execute_result"
    }
   ],
   "source": [
    "mu_real = 100\n",
    "sigma_real = 3\n",
    "data_samplind_dist = Normal(mu_real,sigma_real)"
   ]
  },
  {
   "cell_type": "code",
   "execution_count": 28,
   "metadata": {},
   "outputs": [
    {
     "data": {
      "text/plain": [
       "1000"
      ]
     },
     "execution_count": 28,
     "metadata": {},
     "output_type": "execute_result"
    }
   ],
   "source": [
    "nbr_data_sets = 1000"
   ]
  },
  {
   "cell_type": "code",
   "execution_count": 29,
   "metadata": {},
   "outputs": [],
   "source": [
    "mu_est = zeros(6,nbr_data_sets)\n",
    "log_mu_est = zeros(6,nbr_data_sets)\n",
    "\n",
    "\n",
    "for i in 1:nbr_data_sets\n",
    "    \n",
    "    \n",
    "    data = rand(data_samplind_dist,100)\n",
    "    \n",
    "    mu_est[1,i] = mean(data[1]) # N = 1\n",
    "    mu_est[2,i] = mean(data[1:5])\n",
    "    mu_est[3,i] = mean(data[1:10])\n",
    "    mu_est[4,i] = mean(data[1:25])\n",
    "    mu_est[5,i] = mean(data[1:50])\n",
    "    mu_est[6,i] = mean(data)\n",
    "\n",
    "\n",
    "    log_mu_est[1,i] = log(mean(data[1])) # N = 1\n",
    "    log_mu_est[2,i] = log(mean(data[1:5]))\n",
    "    log_mu_est[3,i] = log(mean(data[1:10]))\n",
    "    log_mu_est[4,i] = log(mean(data[1:25]))\n",
    "    log_mu_est[5,i] = log(mean(data[1:50]))\n",
    "    log_mu_est[6,i] = log(mean(data))\n",
    "\n",
    "end"
   ]
  },
  {
   "cell_type": "code",
   "execution_count": 39,
   "metadata": {},
   "outputs": [
    {
     "name": "stdout",
     "output_type": "stream",
     "text": [
      "True value:10\n",
      "Mean est values:[99.907; 99.9675; 99.9959; 100.018; 100.002; 100.001]\n",
      "Std of est values:[2.84783; 1.32185; 0.940151; 0.596936; 0.428832; 0.297065]\n"
     ]
    }
   ],
   "source": [
    "\n",
    "println(\"True value:\" * string(mu_real))\n",
    "println(\"Mean est values:\" * string(mean(mu_est, dims = 2)))\n",
    "println(\"Std of est values:\" * string(std(mu_est, dims = 2)))\n",
    "\n"
   ]
  },
  {
   "cell_type": "code",
   "execution_count": 40,
   "metadata": {},
   "outputs": [
    {
     "name": "stdout",
     "output_type": "stream",
     "text": [
      "True value:4.605170185988092\n",
      "Mean est values:[4.60383; 4.60476; 4.60509; 4.60533; 4.60518; 4.60517]\n",
      "Std of est values:[0.0285635; 0.0132096; 0.00939841; 0.0059695; 0.00428851; 0.002971]\n"
     ]
    }
   ],
   "source": [
    "println(\"True value:\" * string(log(mu_real)))\n",
    "println(\"Mean est values:\" * string(mean(log_mu_est, dims = 2)))\n",
    "println(\"Std of est values:\" * string(std(log_mu_est, dims = 2)))\n"
   ]
  },
  {
   "cell_type": "code",
   "execution_count": 6,
   "metadata": {},
   "outputs": [
    {
     "data": {
      "text/plain": [
       "100-element Array{Float64,1}:\n",
       "  7.3793782989920995\n",
       "  8.369712472027249 \n",
       " 12.445147998166881 \n",
       " 13.215896131428945 \n",
       "  8.997383551914155 \n",
       "  4.037518817008316 \n",
       " 13.111668395133007 \n",
       " 13.531276051388133 \n",
       "  9.366930187803048 \n",
       "  5.693858083556815 \n",
       "  6.849188317655049 \n",
       " 12.22354134636031  \n",
       " 11.877009610443992 \n",
       "  ⋮                 \n",
       " 13.640763311720773 \n",
       " 12.64102042668487  \n",
       "  6.431891309131023 \n",
       "  8.006734264294156 \n",
       "  7.882790713031017 \n",
       " 11.776300595893577 \n",
       "  9.73815509147611  \n",
       " 12.17444874075546  \n",
       " 13.081232029079661 \n",
       " 13.490387405950788 \n",
       "  9.64719008374447  \n",
       " 14.00817366155629  "
      ]
     },
     "execution_count": 6,
     "metadata": {},
     "output_type": "execute_result"
    }
   ],
   "source": [
    "data = rand(data_samplind_dist,100)"
   ]
  },
  {
   "cell_type": "code",
   "execution_count": 8,
   "metadata": {
    "scrolled": true
   },
   "outputs": [
    {
     "data": {
      "image/png": "[encoded data removed]",
      "text/plain": [
       "Figure(PyObject <Figure size 640x480 with 1 Axes>)"
      ]
     },
     "metadata": {},
     "output_type": "display_data"
    },
    {
     "data": {
      "text/plain": [
       "([1.0, 0.0, 3.0, 10.0, 18.0, 16.0, 22.0, 18.0, 10.0, 2.0], [0.506402, 2.19963, 3.89286, 5.5861, 7.27933, 8.97256, 10.6658, 12.359, 14.0523, 15.7455, 17.4387], PyCall.PyObject[PyObject <matplotlib.patches.Rectangle object at 0x7fe909e8c470>, PyObject <matplotlib.patches.Rectangle object at 0x7fe909e8c278>, PyObject <matplotlib.patches.Rectangle object at 0x7fe909e8ca58>, PyObject <matplotlib.patches.Rectangle object at 0x7fe909e8cdd8>, PyObject <matplotlib.patches.Rectangle object at 0x7fe909e96198>, PyObject <matplotlib.patches.Rectangle object at 0x7fe909e96518>, PyObject <matplotlib.patches.Rectangle object at 0x7fe909e96898>, PyObject <matplotlib.patches.Rectangle object at 0x7fe909e96c18>, PyObject <matplotlib.patches.Rectangle object at 0x7fe909e96f98>, PyObject <matplotlib.patches.Rectangle object at 0x7fe909e9f358>])"
      ]
     },
     "execution_count": 8,
     "metadata": {},
     "output_type": "execute_result"
    }
   ],
   "source": [
    "PyPlot.figure()\n",
    "PyPlot.hist(data,10)"
   ]
  },
  {
   "cell_type": "code",
   "execution_count": 19,
   "metadata": {},
   "outputs": [
    {
     "name": "stdout",
     "output_type": "stream",
     "text": [
      "True value:10\n",
      "Est values:[7.37938, 10.0815, 9.61488, 9.93604, 10.4918, 10.5501]\n"
     ]
    }
   ],
   "source": [
    "mu_est = zeros(6)\n",
    "mu_est_std = zeros(6)\n",
    "\n",
    "mu_est[1] = mean(data[1]) # N = 1\n",
    "mu_est[2] = mean(data[1:5])\n",
    "mu_est[3] = mean(data[1:10])\n",
    "mu_est[4] = mean(data[1:25])\n",
    "mu_est[5] = mean(data[1:50])\n",
    "mu_est[6] = mean(data)\n",
    "\n",
    "\n",
    "println(\"True value:\" * string(10))\n",
    "println(\"Est values:\" * string(mu_est))"
   ]
  },
  {
   "cell_type": "code",
   "execution_count": 22,
   "metadata": {},
   "outputs": [
    {
     "name": "stdout",
     "output_type": "stream",
     "text": [
      "True value:2.302585092994046\n",
      "Est values:[1.99869, 2.3107, 2.26331, 2.29617, 2.35059, 2.35613]\n"
     ]
    }
   ],
   "source": [
    "log_mu_est = zeros(6)\n",
    "mu_est_std = zeros(6)\n",
    "\n",
    "log_mu_est[1] = log(mean(data[1])) # N = 1\n",
    "log_mu_est[2] = log(mean(data[1:5]))\n",
    "log_mu_est[3] = log(mean(data[1:10]))\n",
    "log_mu_est[4] = log(mean(data[1:25]))\n",
    "log_mu_est[5] = log(mean(data[1:50]))\n",
    "log_mu_est[6] = log(mean(data))\n",
    "\n",
    "println(\"True value:\" * string(log(10)))\n",
    "println(\"Est values:\" * string(log_mu_est))"
   ]
  },
  {
   "cell_type": "code",
   "execution_count": null,
   "metadata": {},
   "outputs": [],
   "source": []
  }
 ],
 "metadata": {
  "kernelspec": {
   "display_name": "Julia 1.0.0",
   "language": "julia",
   "name": "julia-1.0"
  },
  "language_info": {
   "file_extension": ".jl",
   "mimetype": "application/julia",
   "name": "julia",
   "version": "1.0.0"
  }
 },
 "nbformat": 4,
 "nbformat_minor": 2
}
