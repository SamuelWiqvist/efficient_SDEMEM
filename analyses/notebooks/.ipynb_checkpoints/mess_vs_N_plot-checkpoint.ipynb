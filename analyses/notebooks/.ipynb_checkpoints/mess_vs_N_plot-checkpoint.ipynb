{
 "cells": [
  {
   "cell_type": "code",
   "execution_count": null,
   "metadata": {},
   "outputs": [],
   "source": [
    "# todo\n",
    "# load mess files\n",
    "# created plot "
   ]
  },
  {
   "cell_type": "code",
   "execution_count": 1,
   "metadata": {},
   "outputs": [
    {
     "data": {
      "text/plain": [
       "\"/home/samuel/Documents/projects/cpmmh for sdemems/code/analyses/notebooks\""
      ]
     },
     "execution_count": 1,
     "metadata": {},
     "output_type": "execute_result"
    }
   ],
   "source": [
    "pwd()"
   ]
  },
  {
   "cell_type": "markdown",
   "metadata": {},
   "source": [
    "Set correct working directory. "
   ]
  },
  {
   "cell_type": "code",
   "execution_count": 2,
   "metadata": {},
   "outputs": [
    {
     "data": {
      "text/plain": [
       "\"/home/samuel/Documents/projects/cpmmh for sdemems/code\""
      ]
     },
     "execution_count": 2,
     "metadata": {},
     "output_type": "execute_result"
    }
   ],
   "source": [
    "cd(\"..\") # set correct working directory \n",
    "cd(\"..\") \n",
    "pwd() # the path should go to the folder with the .git file "
   ]
  },
  {
   "cell_type": "code",
   "execution_count": null,
   "metadata": {},
   "outputs": [],
   "source": []
  },
  {
   "cell_type": "code",
   "execution_count": 8,
   "metadata": {},
   "outputs": [],
   "source": [
    "using PyPlot\n",
    "using CSV\n",
    "using Statistics\n",
    "using StatsBase"
   ]
  },
  {
   "cell_type": "code",
   "execution_count": 7,
   "metadata": {},
   "outputs": [
    {
     "ename": "ArgumentError",
     "evalue": "ArgumentError: invalid open mode: rb",
     "output_type": "error",
     "traceback": [
      "ArgumentError: invalid open mode: rb",
      "",
      "Stacktrace:",
      " [1] open(::String, ::String) at ./iostream.jl:339",
      " [2] top-level scope at In[7]:1"
     ]
    }
   ],
   "source": [
    "res_mees_999_50 = np.loadtxt(open(\"data/SDEMEM OU/cpmmh for plot mess vs N/run_time_ess_mess_0.999_50.csv\", \"rb\"), delimiter=\",\", skiprows=1, usecols=(1))\n",
    "res_mess_99_100 = np.loadtxt(open(\"data/SDEMEM OU/cpmmh for plot mess vs N/run_time_ess_mess_0.99_100.csv\", \"rb\"), delimiter=\",\", skiprows=1, usecols=(1))\n"
   ]
  },
  {
   "cell_type": "code",
   "execution_count": null,
   "metadata": {},
   "outputs": [],
   "source": []
  },
  {
   "cell_type": "code",
   "execution_count": null,
   "metadata": {},
   "outputs": [],
   "source": []
  },
  {
   "cell_type": "code",
   "execution_count": null,
   "metadata": {},
   "outputs": [],
   "source": []
  },
  {
   "cell_type": "code",
   "execution_count": null,
   "metadata": {},
   "outputs": [],
   "source": []
  },
  {
   "cell_type": "code",
   "execution_count": 4,
   "metadata": {},
   "outputs": [
    {
     "data": {
      "text/plain": [
       "5-element Array{Int64,1}:\n",
       "   5\n",
       "  10\n",
       "  20\n",
       "  50\n",
       " 100"
      ]
     },
     "execution_count": 4,
     "metadata": {},
     "output_type": "execute_result"
    }
   ],
   "source": [
    "N = [5,10,20,50,100]"
   ]
  },
  {
   "cell_type": "markdown",
   "metadata": {},
   "source": [
    "Load data for rho_level = 0.999"
   ]
  },
  {
   "cell_type": "code",
   "execution_count": 5,
   "metadata": {},
   "outputs": [
    {
     "name": "stderr",
     "output_type": "stream",
     "text": [
      "┌ Warning: `allowmissing` is a deprecated keyword argument\n",
      "└ @ CSV /home/samuel/.julia/packages/CSV/76SRf/src/CSV.jl:330\n",
      "┌ Warning: `allowmissing` is a deprecated keyword argument\n",
      "└ @ CSV /home/samuel/.julia/packages/CSV/76SRf/src/CSV.jl:330\n",
      "┌ Warning: `allowmissing` is a deprecated keyword argument\n",
      "└ @ CSV /home/samuel/.julia/packages/CSV/76SRf/src/CSV.jl:330\n",
      "┌ Warning: `allowmissing` is a deprecated keyword argument\n",
      "└ @ CSV /home/samuel/.julia/packages/CSV/76SRf/src/CSV.jl:330\n",
      "┌ Warning: `allowmissing` is a deprecated keyword argument\n",
      "└ @ CSV /home/samuel/.julia/packages/CSV/76SRf/src/CSV.jl:330\n"
     ]
    }
   ],
   "source": [
    "res_999_5 = Matrix(CSV.read(\"data/SDEMEM OU/cpmmh for plot mess vs N/run_time_ess_mess_0.999_5.csv\",allowmissing=:auto))\n",
    "res_999_10 = Matrix(CSV.read(\"data/SDEMEM OU/cpmmh for plot mess vs N/run_time_ess_mess_0.999_10.csv\",allowmissing=:auto))\n",
    "res_999_20 = Matrix(CSV.read(\"data/SDEMEM OU/cpmmh for plot mess vs N/run_time_ess_mess_0.999_20.csv\",allowmissing=:auto))\n",
    "res_999_50 = Matrix(CSV.read(\"data/SDEMEM OU/cpmmh for plot mess vs N/run_time_ess_mess_0.999_50.csv\",allowmissing=:auto))\n",
    "res_999_100 = Matrix(CSV.read(\"data/SDEMEM OU/cpmmh for plot mess vs N/run_time_ess_mess_0.999_100.csv\",allowmissing=:auto));\n"
   ]
  },
  {
   "cell_type": "markdown",
   "metadata": {},
   "source": [
    "Check runtimes"
   ]
  },
  {
   "cell_type": "code",
   "execution_count": 80,
   "metadata": {},
   "outputs": [
    {
     "data": {
      "text/plain": [
       "2-element Array{Float64,1}:\n",
       " 171.82940798725 \n",
       " 175.144670740433"
      ]
     },
     "execution_count": 80,
     "metadata": {},
     "output_type": "execute_result"
    }
   ],
   "source": [
    "res_data_runtimes_means_999 = zeros(5)\n",
    "res_data_runtimes_percentiles_999 = zeros(5,2)\n",
    "\n",
    "res_data_runtimes_means_999[1] = mean(res_999_5[:,2])\n",
    "res_data_runtimes_percentiles_999[1,:] = percentile(res_999_5[:,2], [25, 75])\n",
    "\n",
    "res_data_runtimes_means_999[2] = mean(res_999_10[:,2])\n",
    "res_data_runtimes_percentiles_999[2,:] = percentile(res_999_10[:,2], [25, 75])\n",
    "    \n",
    "res_data_runtimes_means_999[3] = mean(res_999_20[:,2])\n",
    "res_data_runtimes_percentiles_999[3,:] = percentile(res_999_20[:,2], [25, 75])\n",
    "\n",
    "res_data_runtimes_means_999[4] = mean(res_999_50[:,2])\n",
    "res_data_runtimes_percentiles_999[4,:] = percentile(res_999_50[:,2], [25, 75])\n",
    "\n",
    "res_data_runtimes_means_999[5] = mean(res_999_100[:,2])\n",
    "res_data_runtimes_percentiles_999[5,:] = percentile(res_999_100[:,2], [25, 75])\n"
   ]
  },
  {
   "cell_type": "code",
   "execution_count": 81,
   "metadata": {},
   "outputs": [
    {
     "data": {
      "text/plain": [
       "5-element Array{Float64,1}:\n",
       "  18.821262767364   \n",
       "  26.514850591779982\n",
       "  40.92558660308867 \n",
       "  96.6125893281693  \n",
       " 173.45786680766062 "
      ]
     },
     "execution_count": 81,
     "metadata": {},
     "output_type": "execute_result"
    }
   ],
   "source": [
    "res_data_runtimes_means_999"
   ]
  },
  {
   "cell_type": "code",
   "execution_count": 91,
   "metadata": {},
   "outputs": [
    {
     "data": {
      "text/plain": [
       "5-element Array{Float64,1}:\n",
       " 2.057261474619299 \n",
       " 1.9849520048200162\n",
       " 2.3497075971446293\n",
       " 2.3074133333139883\n",
       " 1.686803932772392 "
      ]
     },
     "execution_count": 91,
     "metadata": {},
     "output_type": "execute_result"
    }
   ],
   "source": [
    "error_lower = abs.(res_data_runtimes_means_999 - res_data_runtimes_percentiles_999[:,1])\n",
    "error_upper = abs.(res_data_runtimes_means_999 - res_data_runtimes_percentiles_999[:,2])\n",
    "errors = zeros(2,5)\n",
    "errors[1,:] = error_lower\n",
    "errors[2,:] = error_upper"
   ]
  },
  {
   "cell_type": "code",
   "execution_count": 92,
   "metadata": {},
   "outputs": [
    {
     "data": {
      "image/png": "[encoded data removed]",
      "text/plain": [
       "Figure(PyObject <Figure size 640x480 with 1 Axes>)"
      ]
     },
     "metadata": {},
     "output_type": "display_data"
    },
    {
     "data": {
      "text/plain": [
       "(PyObject <matplotlib.lines.Line2D object at 0x7f35945a77b8>, (), (PyObject <matplotlib.collections.LineCollection object at 0x7f35945a7d30>,))"
      ]
     },
     "execution_count": 92,
     "metadata": {},
     "output_type": "execute_result"
    }
   ],
   "source": [
    "PyPlot.figure()\n",
    "PyPlot.errorbar(N, res_data_runtimes_means_999, yerr=errors)"
   ]
  },
  {
   "cell_type": "markdown",
   "metadata": {},
   "source": [
    "Check mess"
   ]
  },
  {
   "cell_type": "code",
   "execution_count": 100,
   "metadata": {},
   "outputs": [
    {
     "data": {
      "text/plain": [
       "2-element Array{Float64,1}:\n",
       " 576.815594808687\n",
       " 710.564284399041"
      ]
     },
     "execution_count": 100,
     "metadata": {},
     "output_type": "execute_result"
    }
   ],
   "source": [
    "res_data_mess_means_999 = zeros(5)\n",
    "res_data_mess_percentiles_999 = zeros(5,2)\n",
    "\n",
    "res_data_mess_means_999[1] = mean(res_999_5[:,3])\n",
    "res_data_mess_percentiles_999[1,:] = percentile(res_999_5[:,3], [25, 75])\n",
    "\n",
    "res_data_mess_means_999[2] = mean(res_999_10[:,3])\n",
    "res_data_mess_percentiles_999[2,:] = percentile(res_999_10[:,3], [25, 75])\n",
    "    \n",
    "res_data_mess_means_999[3] = mean(res_999_20[:,3])\n",
    "res_data_mess_percentiles_999[3,:] = percentile(res_999_20[:,3], [25, 75])\n",
    "\n",
    "res_data_mess_means_999[4] = mean(res_999_50[:,3])\n",
    "res_data_mess_percentiles_999[4,:] = percentile(res_999_50[:,3], [25, 75])\n",
    "\n",
    "res_data_mess_means_999[5] = mean(res_999_100[:,3])\n",
    "res_data_mess_percentiles_999[5,:] = percentile(res_999_100[:,3], [25, 75])\n"
   ]
  },
  {
   "cell_type": "code",
   "execution_count": 101,
   "metadata": {},
   "outputs": [
    {
     "data": {
      "text/plain": [
       "5×2 Array{Float64,2}:\n",
       " 200.28   201.458\n",
       " 204.205  222.365\n",
       " 250.987  326.995\n",
       " 411.525  520.976\n",
       " 576.816  710.564"
      ]
     },
     "execution_count": 101,
     "metadata": {},
     "output_type": "execute_result"
    }
   ],
   "source": [
    "res_data_mess_percentiles_999"
   ]
  },
  {
   "cell_type": "code",
   "execution_count": 103,
   "metadata": {},
   "outputs": [
    {
     "data": {
      "text/plain": [
       "5-element Array{Float64,1}:\n",
       "  0.24053044641431143\n",
       "  7.706605503422395  \n",
       " 37.7317788103955    \n",
       " 51.07579878512729   \n",
       " 91.2648882958523    "
      ]
     },
     "execution_count": 103,
     "metadata": {},
     "output_type": "execute_result"
    }
   ],
   "source": [
    "error_lower = abs.(res_data_mess_means_999 - res_data_mess_percentiles_999[:,1])\n",
    "error_upper = abs.(res_data_mess_means_999 - res_data_mess_percentiles_999[:,2])\n",
    "errors = zeros(2,5)\n",
    "errors[1,:] = error_lower\n",
    "errors[2,:] = error_upper"
   ]
  },
  {
   "cell_type": "code",
   "execution_count": 104,
   "metadata": {
    "scrolled": true
   },
   "outputs": [
    {
     "data": {
      "image/png": "[encoded data removed]",
      "text/plain": [
       "Figure(PyObject <Figure size 640x480 with 1 Axes>)"
      ]
     },
     "metadata": {},
     "output_type": "display_data"
    },
    {
     "data": {
      "text/plain": [
       "(PyObject <matplotlib.lines.Line2D object at 0x7f35944ff7f0>, (), (PyObject <matplotlib.collections.LineCollection object at 0x7f35944ffd68>,))"
      ]
     },
     "execution_count": 104,
     "metadata": {},
     "output_type": "execute_result"
    }
   ],
   "source": [
    "PyPlot.figure()\n",
    "PyPlot.errorbar(N, res_data_mess_means_999, yerr=errors)"
   ]
  },
  {
   "cell_type": "code",
   "execution_count": 109,
   "metadata": {},
   "outputs": [
    {
     "data": {
      "text/plain": [
       "5-element Array{Float64,1}:\n",
       " 201.2173877215997 \n",
       " 214.65817470055862\n",
       " 289.2635037719185 \n",
       " 469.90009289597174\n",
       " 619.2993961031887 "
      ]
     },
     "execution_count": 109,
     "metadata": {},
     "output_type": "execute_result"
    }
   ],
   "source": [
    "res_data_mess_means_999"
   ]
  },
  {
   "cell_type": "markdown",
   "metadata": {},
   "source": [
    "Check mess/min"
   ]
  },
  {
   "cell_type": "code",
   "execution_count": 110,
   "metadata": {},
   "outputs": [
    {
     "data": {
      "text/plain": [
       "2-element Array{Float64,1}:\n",
       " 3.27722901759964\n",
       " 4.14751186037727"
      ]
     },
     "execution_count": 110,
     "metadata": {},
     "output_type": "execute_result"
    }
   ],
   "source": [
    "res_data_mess_per_min_means_999 = zeros(5)\n",
    "res_data_mess_per_min_percentiles_999 = zeros(5,2)\n",
    "\n",
    "res_data_mess_per_min_means_999[1] = mean(res_999_5[:,4])\n",
    "res_data_mess_per_min_percentiles_999[1,:] = percentile(res_999_5[:,4], [25, 75])\n",
    "\n",
    "res_data_mess_per_min_means_999[2] = mean(res_999_10[:,4])\n",
    "res_data_mess_per_min_percentiles_999[2,:] = percentile(res_999_10[:,4], [25, 75])\n",
    "    \n",
    "res_data_mess_per_min_means_999[3] = mean(res_999_20[:,4])\n",
    "res_data_mess_per_min_percentiles_999[3,:] = percentile(res_999_20[:,4], [25, 75])\n",
    "\n",
    "res_data_mess_per_min_means_999[4] = mean(res_999_50[:,4])\n",
    "res_data_mess_per_min_percentiles_999[4,:] = percentile(res_999_50[:,4], [25, 75])\n",
    "\n",
    "res_data_mess_per_min_means_999[5] = mean(res_999_100[:,4])\n",
    "res_data_mess_per_min_percentiles_999[5,:] = percentile(res_999_100[:,4], [25, 75])\n"
   ]
  },
  {
   "cell_type": "code",
   "execution_count": 118,
   "metadata": {},
   "outputs": [
    {
     "data": {
      "text/plain": [
       "25×5 Array{Float64,2}:\n",
       "  1.0  17.0312  199.864  11.7352   0.0\n",
       "  2.0  16.8786  200.185  11.8603   0.0\n",
       "  3.0  17.0225  200.73   11.792    0.0\n",
       "  4.0  17.1504  201.458  11.7465   0.0\n",
       "  5.0  17.0904  200.414  11.7267   0.0\n",
       "  6.0  17.1826  202.088  11.7612   0.0\n",
       "  7.0  18.4215  202.111  10.9715   0.0\n",
       "  8.0  17.153   200.28   11.6761   0.0\n",
       "  9.0  20.936   201.036   9.60238  0.0\n",
       " 10.0  20.8257  201.314   9.66663  0.0\n",
       " 11.0  20.8729  200.615   9.61124  0.0\n",
       " 12.0  20.7369  201.007   9.69323  0.0\n",
       " 13.0  20.8996  200.871   9.61127  0.0\n",
       " 14.0  21.0632  201.01    9.54321  0.0\n",
       " 15.0  20.9897  200.053   9.53098  0.0\n",
       " 16.0  20.8785  204.321   9.78617  0.0\n",
       " 17.0  21.0864  204.66    9.70579  0.0\n",
       " 18.0  21.1148  200.943   9.5167   0.0\n",
       " 19.0  20.8765  202.494   9.69961  0.0\n",
       " 20.0  17.192   200.019  11.6345   0.0\n",
       " 21.0  17.1017  200.149  11.7035   0.0\n",
       " 22.0  17.0886  200.374  11.7256   0.0\n",
       " 23.0  16.9933  203.973  12.0031   0.0\n",
       " 24.0  17.0035  199.886  11.7556   0.0\n",
       " 25.0  16.9421  200.58   11.8391   0.0"
      ]
     },
     "execution_count": 118,
     "metadata": {},
     "output_type": "execute_result"
    }
   ],
   "source": [
    "res_999_5"
   ]
  },
  {
   "cell_type": "code",
   "execution_count": 111,
   "metadata": {},
   "outputs": [
    {
     "data": {
      "text/plain": [
       "5-element Array{Float64,1}:\n",
       " 10.795922055692884 \n",
       "  8.149296623029047 \n",
       "  7.116601703464679 \n",
       "  4.872255432569515 \n",
       "  3.5699987245223563"
      ]
     },
     "execution_count": 111,
     "metadata": {},
     "output_type": "execute_result"
    }
   ],
   "source": [
    "res_data_mess_per_min_means_999"
   ]
  },
  {
   "cell_type": "code",
   "execution_count": 108,
   "metadata": {},
   "outputs": [
    {
     "data": {
      "text/plain": [
       "5-element Array{Float64,1}:\n",
       " 10.795922055692884 \n",
       "  8.149296623029047 \n",
       "  7.116601703464679 \n",
       "  4.872255432569515 \n",
       "  3.5699987245223563"
      ]
     },
     "execution_count": 108,
     "metadata": {},
     "output_type": "execute_result"
    }
   ],
   "source": [
    "res_data_mess_per_min_means_999"
   ]
  },
  {
   "cell_type": "code",
   "execution_count": 112,
   "metadata": {},
   "outputs": [
    {
     "data": {
      "text/plain": [
       "5×2 Array{Float64,2}:\n",
       " 9.66663  11.7465 \n",
       " 7.45896   8.44965\n",
       " 5.80529   8.4195 \n",
       " 4.52037   5.31795\n",
       " 3.27723   4.14751"
      ]
     },
     "execution_count": 112,
     "metadata": {},
     "output_type": "execute_result"
    }
   ],
   "source": [
    "res_data_mess_per_min_percentiles_999"
   ]
  },
  {
   "cell_type": "code",
   "execution_count": 113,
   "metadata": {},
   "outputs": [
    {
     "data": {
      "text/plain": [
       "5-element Array{Float64,1}:\n",
       " 0.9505897633222151\n",
       " 0.3003500108631627\n",
       " 1.302893523111762 \n",
       " 0.4456929478716445\n",
       " 0.5775131358549133"
      ]
     },
     "execution_count": 113,
     "metadata": {},
     "output_type": "execute_result"
    }
   ],
   "source": [
    "error_lower = abs.(res_data_mess_per_min_means_999 - res_data_mess_per_min_percentiles_999[:,1])\n",
    "error_upper = abs.(res_data_mess_per_min_means_999 - res_data_mess_per_min_percentiles_999[:,2])\n",
    "errors = zeros(2,5)\n",
    "errors[1,:] = error_lower\n",
    "errors[2,:] = error_upper"
   ]
  },
  {
   "cell_type": "code",
   "execution_count": 114,
   "metadata": {},
   "outputs": [
    {
     "data": {
      "text/plain": [
       "2×5 Array{Float64,2}:\n",
       " 1.1293   0.69034  1.31131  0.351883  0.29277 \n",
       " 0.95059  0.30035  1.30289  0.445693  0.577513"
      ]
     },
     "execution_count": 114,
     "metadata": {},
     "output_type": "execute_result"
    }
   ],
   "source": [
    "errors"
   ]
  },
  {
   "cell_type": "code",
   "execution_count": 123,
   "metadata": {},
   "outputs": [
    {
     "data": {
      "image/png": "[encoded data removed]",
      "text/plain": [
       "Figure(PyObject <Figure size 640x480 with 1 Axes>)"
      ]
     },
     "metadata": {},
     "output_type": "display_data"
    },
    {
     "data": {
      "text/plain": [
       "PyObject <matplotlib.legend.Legend object at 0x7f35942716a0>"
      ]
     },
     "execution_count": 123,
     "metadata": {},
     "output_type": "execute_result"
    }
   ],
   "source": [
    "PyPlot.figure()\n",
    "PyPlot.errorbar(N, res_data_mess_per_min_means_999, yerr=errors)\n",
    "PyPlot.xlabel(\"Nbr particels\")\n",
    "PyPlot.ylabel(\"mEES/min\")\n",
    "PyPlot.legend([\"CPMMH-0999\"])"
   ]
  },
  {
   "cell_type": "code",
   "execution_count": 116,
   "metadata": {},
   "outputs": [
    {
     "data": {
      "text/plain": [
       "5-element Array{Float64,1}:\n",
       " 10.795922055692884 \n",
       "  8.149296623029047 \n",
       "  7.116601703464679 \n",
       "  4.872255432569515 \n",
       "  3.5699987245223563"
      ]
     },
     "execution_count": 116,
     "metadata": {},
     "output_type": "execute_result"
    }
   ],
   "source": [
    "res_data_mess_per_min_means_999"
   ]
  }
 ],
 "metadata": {
  "kernelspec": {
   "display_name": "Julia 1.0.0",
   "language": "julia",
   "name": "julia-1.0"
  },
  "language_info": {
   "file_extension": ".jl",
   "mimetype": "application/julia",
   "name": "julia",
   "version": "1.0.0"
  }
 },
 "nbformat": 4,
 "nbformat_minor": 2
}
